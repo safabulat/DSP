{
 "cells": [
  {
   "cell_type": "markdown",
   "metadata": {},
   "source": [
    "## ÖDEV-2 \n",
    "\n",
    "## Bu ödevde isminiz, öğrenci numaranız vb. kimliğinizi belli edecek bilgiyi bu dokümana yazmayınız. Dokümanın adı kimliğinizi belli etmemelidir. \n",
    "\n",
    "### Dokümanın adı ODEV2_AnonimKimlikNumarasi.ipynb olmalıdır. \n",
    "\n",
    "#### Sistem sadece IPYNB uzantılı dosya kabul edecektir. \n",
    "\n",
    "#### AnonimKimlikNumarası: \n",
    "Öğrencinin TC Kimlik Numarası’nı girerek ürettiği bir kod numarasıdır. \n",
    "Kod numarası üretmek için ders web sayfasındaki “AnonimKimlikNumarasiUreteci.ipynb” \n",
    "isimli kodu çalıştırınız. Bu kod ilk harfi a, b veya c olan ve devamında 5 haneli \n",
    "sayı içeren bir koddur. Bu kod kişiye özeldir ve ödevlerde anonim değerlendirmeyi \n",
    "sağlamak üzere kullanılmaktadır; başkaları ile paylaşmayınız"
   ]
  },
  {
   "cell_type": "markdown",
   "metadata": {},
   "source": [
    "### Ön hazırlık dosyasında verilen kodlar aşağıya yazılacak:"
   ]
  },
  {
   "cell_type": "code",
   "execution_count": null,
   "metadata": {},
   "outputs": [],
   "source": [
    "import numpy as np\n",
    "import matplotlib.pyplot as plt\n",
    "%matplotlib notebook\n",
    "\n",
    "##--------------------KODLAR buraya eklenecek------------------------\n",
    "## ....\n",
    "## ....\n",
    "## ....\n",
    "\n",
    "\n",
    "\n"
   ]
  },
  {
   "cell_type": "markdown",
   "metadata": {},
   "source": [
    "## Ön hazırlık ödevleri (ÖDEV-2 başlığı altındaki soruların çözümleri aşağıda verilecek) "
   ]
  },
  {
   "cell_type": "markdown",
   "metadata": {},
   "source": [
    "### SORU-1"
   ]
  },
  {
   "cell_type": "code",
   "execution_count": null,
   "metadata": {},
   "outputs": [],
   "source": [
    "##KODLAR.."
   ]
  },
  {
   "cell_type": "markdown",
   "metadata": {},
   "source": [
    "## I)"
   ]
  },
  {
   "cell_type": "code",
   "execution_count": null,
   "metadata": {},
   "outputs": [],
   "source": [
    "...."
   ]
  },
  {
   "cell_type": "markdown",
   "metadata": {},
   "source": [
    "## II)"
   ]
  },
  {
   "cell_type": "code",
   "execution_count": null,
   "metadata": {},
   "outputs": [],
   "source": [
    "...."
   ]
  },
  {
   "cell_type": "markdown",
   "metadata": {},
   "source": [
    "### SORU-2"
   ]
  },
  {
   "cell_type": "code",
   "execution_count": null,
   "metadata": {},
   "outputs": [],
   "source": [
    "##KODLAR.."
   ]
  },
  {
   "cell_type": "code",
   "execution_count": null,
   "metadata": {},
   "outputs": [],
   "source": []
  },
  {
   "cell_type": "code",
   "execution_count": null,
   "metadata": {},
   "outputs": [],
   "source": []
  },
  {
   "cell_type": "code",
   "execution_count": null,
   "metadata": {},
   "outputs": [],
   "source": []
  }
 ],
 "metadata": {
  "kernelspec": {
   "display_name": "Python 3",
   "language": "python",
   "name": "python3"
  },
  "language_info": {
   "codemirror_mode": {
    "name": "ipython",
    "version": 3
   },
   "file_extension": ".py",
   "mimetype": "text/x-python",
   "name": "python",
   "nbconvert_exporter": "python",
   "pygments_lexer": "ipython3",
   "version": "3.8.5"
  }
 },
 "nbformat": 4,
 "nbformat_minor": 2
}
